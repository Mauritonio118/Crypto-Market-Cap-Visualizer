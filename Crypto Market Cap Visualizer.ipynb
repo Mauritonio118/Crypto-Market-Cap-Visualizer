{
 "cells": [
  {
   "cell_type": "code",
   "execution_count": 27,
   "metadata": {},
   "outputs": [],
   "source": [
    "import requests\n",
    "import pandas as pd\n",
    "import plotly.express as px\n",
    "\n",
    "r = requests.get(\"https://api.coingecko.com/api/v3/coins/markets?vs_currency=usd&order=market_cap_desc&per_page=250&page=1&sparkline=false\")\n",
    "data = r.json()"
   ]
  },
  {
   "cell_type": "code",
   "execution_count": 28,
   "metadata": {},
   "outputs": [],
   "source": [
    "name = []\n",
    "current_price = []\n",
    "market_cap =[]\n",
    "price_change_percentage_24h = []\n",
    "for i in range(0,len(data)):\n",
    "    name.append( data[i][\"name\"])\n",
    "    current_price.append(data[i][\"current_price\"])\n",
    "    market_cap.append(data[i][\"market_cap\"])\n",
    "    price_change_percentage_24h.append(data[i][\"price_change_percentage_24h\"])\n",
    "\n",
    "df = pd.DataFrame(\n",
    "    {\n",
    "        \"Name\": name,\n",
    "        \"Current_price\": current_price,\n",
    "        \"Market_cap\": market_cap,\n",
    "        \"Price_change_percentage_24h\": price_change_percentage_24h,\n",
    "    }\n",
    ")\n"
   ]
  },
  {
   "cell_type": "code",
   "execution_count": 29,
   "metadata": {},
   "outputs": [
    {
     "data": {
      "application/vnd.plotly.v1+json": {
       "config": {
        "plotlyServerURL": "https://plot.ly"
       },
       "data": [
        {
         "branchvalues": "total",
         "domain": {
          "x": [
           0,
           1
          ],
          "y": [
           0,
           1
          ]
         },
         "hovertemplate": "labels=%{label}<br>Market_cap=%{value}<br>parent=%{parent}<br>id=%{id}<extra></extra>",
         "ids": [
          "0x",
          "1inch",
          "APENFT",
          "Aave",
          "Akash Network",
          "Alchemix USD",
          "Algorand",
          "Amp",
          "Anchor Protocol",
          "Ankr",
          "Anyswap",
          "Arweave",
          "Audius",
          "Aurora",
          "Avalanche",
          "Axie Infinity",
          "Baby Doge Coin",
          "Bancor Network Token",
          "Basic Attention Token",
          "Binance Coin",
          "Binance USD",
          "BitTorrent [OLD]",
          "Bitcoin",
          "Bitcoin Cash",
          "Bitcoin Gold",
          "Bitcoin SV",
          "Bitkub Coin",
          "Boba Network",
          "COTI",
          "Cardano",
          "Cartesi",
          "Casper Network",
          "Celer Network",
          "Celo",
          "Celsius Network",
          "Chainlink",
          "Chia",
          "Chiliz",
          "Chromia",
          "Coin98",
          "Compound",
          "Constellation",
          "Convex CRV",
          "Convex Finance",
          "Cosmos",
          "Cratos",
          "Crypto.com Coin",
          "Curve DAO Token",
          "DEAPCOIN",
          "DUSK Network",
          "Dai",
          "Dash",
          "DeFi Kingdoms",
          "Decentraland",
          "Decentralized Social",
          "Decred",
          "Dent",
          "DigiByte",
          "DigitalBits",
          "Dogecoin",
          "Dogelon Mars",
          "Dopex",
          "ECOMI",
          "EOS",
          "Elrond",
          "Energy Web Token",
          "Enjin Coin",
          "Escoin Token",
          "Ethereum",
          "Ethereum Classic",
          "Ethereum Name Service",
          "Euro Tether",
          "Everscale",
          "FLEX Coin",
          "FTX Token",
          "Fantom",
          "Fei USD",
          "Fetch.ai",
          "Filecoin",
          "Flow",
          "Flux",
          "Frax",
          "Frax Share",
          "Function X",
          "GMX",
          "Gala",
          "GateToken",
          "Gnosis",
          "Golem",
          "HUSD",
          "Harmony",
          "Hedera",
          "Helium",
          "Hive",
          "Holo",
          "Horizen",
          "Huobi BTC",
          "Huobi Token",
          "ICON",
          "IOST",
          "IOTA",
          "Illuvium",
          "Immutable X",
          "Internet Computer",
          "IoTeX",
          "Ion",
          "JUNO",
          "JUST",
          "JasmyCoin",
          "Kadena",
          "Kava",
          "Keep Network",
          "Keep3rV1",
          "Klaytn",
          "KuCoin Token",
          "Kusama",
          "LEO Token",
          "LINK",
          "Lido Staked Ether",
          "Liquity USD",
          "Lisk",
          "Litecoin",
          "Livepeer",
          "LooksRare",
          "Loopring",
          "MAI",
          "MXC",
          "Magic Internet Money",
          "Maker",
          "Marinade staked SOL",
          "Mask Network",
          "Metahero",
          "Metis Token",
          "Mina Protocol",
          "Mobox",
          "Monero",
          "Moonbeam",
          "Moonriver",
          "NEM",
          "NEO",
          "NEXO",
          "Nano",
          "Near",
          "Nervos Network",
          "Neutrino USD",
          "Nexus Mutual",
          "NuCypher",
          "OEC Token",
          "OKB",
          "OMG Network",
          "Oasis Network",
          "Ocean Protocol",
          "Olympus",
          "Ontology",
          "Origin Dollar",
          "Osmosis",
          "PAX Gold",
          "PLEX",
          "PancakeSwap",
          "Pax Dollar",
          "Perpetual Protocol",
          "Persistence",
          "PlayDapp",
          "Pocket Network",
          "Polkadot",
          "Polygon",
          "Polymath",
          "Power Cash",
          "Power Ledger",
          "Qtum",
          "Quant",
          "REN",
          "Radix",
          "Rally",
          "Rari Governance Token",
          "Ravencoin",
          "Raydium",
          "Render Token",
          "Reserve Rights Token",
          "Rocket Pool",
          "SKALE",
          "SafeMoon [OLD]",
          "Sapphire",
          "Secret",
          "Serum",
          "Shiba Inu",
          "Siacoin",
          "Smooth Love Potion",
          "Solana",
          "Spell Token",
          "Spookyswap",
          "Stacks",
          "Stellar",
          "Sushi",
          "Swipe",
          "SwissBorg",
          "Synapse",
          "Synthetix Network Token",
          "Syscoin",
          "THORChain",
          "TRON",
          "Telcoin",
          "Terra",
          "TerraUSD",
          "Tether",
          "Tether Gold",
          "Tezos",
          "The Graph",
          "The Sandbox",
          "Theta Fuel",
          "Theta Network",
          "Tokemak",
          "Tomb",
          "Tomb Shares",
          "Tribe",
          "TrueUSD",
          "UFO Gaming",
          "UMA",
          "USD Coin",
          "Ultra",
          "Uniswap",
          "VeChain",
          "Velas",
          "Victoria VR",
          "WAX",
          "WINkLink",
          "WOO Network",
          "Waves",
          "WazirX",
          "Wonderland",
          "Wrapped Bitcoin",
          "XDC Network",
          "XRP",
          "XSGD",
          "XYO Network",
          "Yield Guild Games",
          "Zcash",
          "Zenon",
          "Zilliqa",
          "Zipmex Token",
          "cDAI",
          "cETH",
          "cUSDC",
          "cUSDT",
          "dYdX",
          "e-Radix",
          "eCash",
          "renBTC",
          "xSUSHI",
          "yearn.finance"
         ],
         "labels": [
          "0x",
          "1inch",
          "APENFT",
          "Aave",
          "Akash Network",
          "Alchemix USD",
          "Algorand",
          "Amp",
          "Anchor Protocol",
          "Ankr",
          "Anyswap",
          "Arweave",
          "Audius",
          "Aurora",
          "Avalanche",
          "Axie Infinity",
          "Baby Doge Coin",
          "Bancor Network Token",
          "Basic Attention Token",
          "Binance Coin",
          "Binance USD",
          "BitTorrent [OLD]",
          "Bitcoin",
          "Bitcoin Cash",
          "Bitcoin Gold",
          "Bitcoin SV",
          "Bitkub Coin",
          "Boba Network",
          "COTI",
          "Cardano",
          "Cartesi",
          "Casper Network",
          "Celer Network",
          "Celo",
          "Celsius Network",
          "Chainlink",
          "Chia",
          "Chiliz",
          "Chromia",
          "Coin98",
          "Compound",
          "Constellation",
          "Convex CRV",
          "Convex Finance",
          "Cosmos",
          "Cratos",
          "Crypto.com Coin",
          "Curve DAO Token",
          "DEAPCOIN",
          "DUSK Network",
          "Dai",
          "Dash",
          "DeFi Kingdoms",
          "Decentraland",
          "Decentralized Social",
          "Decred",
          "Dent",
          "DigiByte",
          "DigitalBits",
          "Dogecoin",
          "Dogelon Mars",
          "Dopex",
          "ECOMI",
          "EOS",
          "Elrond",
          "Energy Web Token",
          "Enjin Coin",
          "Escoin Token",
          "Ethereum",
          "Ethereum Classic",
          "Ethereum Name Service",
          "Euro Tether",
          "Everscale",
          "FLEX Coin",
          "FTX Token",
          "Fantom",
          "Fei USD",
          "Fetch.ai",
          "Filecoin",
          "Flow",
          "Flux",
          "Frax",
          "Frax Share",
          "Function X",
          "GMX",
          "Gala",
          "GateToken",
          "Gnosis",
          "Golem",
          "HUSD",
          "Harmony",
          "Hedera",
          "Helium",
          "Hive",
          "Holo",
          "Horizen",
          "Huobi BTC",
          "Huobi Token",
          "ICON",
          "IOST",
          "IOTA",
          "Illuvium",
          "Immutable X",
          "Internet Computer",
          "IoTeX",
          "Ion",
          "JUNO",
          "JUST",
          "JasmyCoin",
          "Kadena",
          "Kava",
          "Keep Network",
          "Keep3rV1",
          "Klaytn",
          "KuCoin Token",
          "Kusama",
          "LEO Token",
          "LINK",
          "Lido Staked Ether",
          "Liquity USD",
          "Lisk",
          "Litecoin",
          "Livepeer",
          "LooksRare",
          "Loopring",
          "MAI",
          "MXC",
          "Magic Internet Money",
          "Maker",
          "Marinade staked SOL",
          "Mask Network",
          "Metahero",
          "Metis Token",
          "Mina Protocol",
          "Mobox",
          "Monero",
          "Moonbeam",
          "Moonriver",
          "NEM",
          "NEO",
          "NEXO",
          "Nano",
          "Near",
          "Nervos Network",
          "Neutrino USD",
          "Nexus Mutual",
          "NuCypher",
          "OEC Token",
          "OKB",
          "OMG Network",
          "Oasis Network",
          "Ocean Protocol",
          "Olympus",
          "Ontology",
          "Origin Dollar",
          "Osmosis",
          "PAX Gold",
          "PLEX",
          "PancakeSwap",
          "Pax Dollar",
          "Perpetual Protocol",
          "Persistence",
          "PlayDapp",
          "Pocket Network",
          "Polkadot",
          "Polygon",
          "Polymath",
          "Power Cash",
          "Power Ledger",
          "Qtum",
          "Quant",
          "REN",
          "Radix",
          "Rally",
          "Rari Governance Token",
          "Ravencoin",
          "Raydium",
          "Render Token",
          "Reserve Rights Token",
          "Rocket Pool",
          "SKALE",
          "SafeMoon [OLD]",
          "Sapphire",
          "Secret",
          "Serum",
          "Shiba Inu",
          "Siacoin",
          "Smooth Love Potion",
          "Solana",
          "Spell Token",
          "Spookyswap",
          "Stacks",
          "Stellar",
          "Sushi",
          "Swipe",
          "SwissBorg",
          "Synapse",
          "Synthetix Network Token",
          "Syscoin",
          "THORChain",
          "TRON",
          "Telcoin",
          "Terra",
          "TerraUSD",
          "Tether",
          "Tether Gold",
          "Tezos",
          "The Graph",
          "The Sandbox",
          "Theta Fuel",
          "Theta Network",
          "Tokemak",
          "Tomb",
          "Tomb Shares",
          "Tribe",
          "TrueUSD",
          "UFO Gaming",
          "UMA",
          "USD Coin",
          "Ultra",
          "Uniswap",
          "VeChain",
          "Velas",
          "Victoria VR",
          "WAX",
          "WINkLink",
          "WOO Network",
          "Waves",
          "WazirX",
          "Wonderland",
          "Wrapped Bitcoin",
          "XDC Network",
          "XRP",
          "XSGD",
          "XYO Network",
          "Yield Guild Games",
          "Zcash",
          "Zenon",
          "Zilliqa",
          "Zipmex Token",
          "cDAI",
          "cETH",
          "cUSDC",
          "cUSDT",
          "dYdX",
          "e-Radix",
          "eCash",
          "renBTC",
          "xSUSHI",
          "yearn.finance"
         ],
         "name": "",
         "parents": [
          "",
          "",
          "",
          "",
          "",
          "",
          "",
          "",
          "",
          "",
          "",
          "",
          "",
          "",
          "",
          "",
          "",
          "",
          "",
          "",
          "",
          "",
          "",
          "",
          "",
          "",
          "",
          "",
          "",
          "",
          "",
          "",
          "",
          "",
          "",
          "",
          "",
          "",
          "",
          "",
          "",
          "",
          "",
          "",
          "",
          "",
          "",
          "",
          "",
          "",
          "",
          "",
          "",
          "",
          "",
          "",
          "",
          "",
          "",
          "",
          "",
          "",
          "",
          "",
          "",
          "",
          "",
          "",
          "",
          "",
          "",
          "",
          "",
          "",
          "",
          "",
          "",
          "",
          "",
          "",
          "",
          "",
          "",
          "",
          "",
          "",
          "",
          "",
          "",
          "",
          "",
          "",
          "",
          "",
          "",
          "",
          "",
          "",
          "",
          "",
          "",
          "",
          "",
          "",
          "",
          "",
          "",
          "",
          "",
          "",
          "",
          "",
          "",
          "",
          "",
          "",
          "",
          "",
          "",
          "",
          "",
          "",
          "",
          "",
          "",
          "",
          "",
          "",
          "",
          "",
          "",
          "",
          "",
          "",
          "",
          "",
          "",
          "",
          "",
          "",
          "",
          "",
          "",
          "",
          "",
          "",
          "",
          "",
          "",
          "",
          "",
          "",
          "",
          "",
          "",
          "",
          "",
          "",
          "",
          "",
          "",
          "",
          "",
          "",
          "",
          "",
          "",
          "",
          "",
          "",
          "",
          "",
          "",
          "",
          "",
          "",
          "",
          "",
          "",
          "",
          "",
          "",
          "",
          "",
          "",
          "",
          "",
          "",
          "",
          "",
          "",
          "",
          "",
          "",
          "",
          "",
          "",
          "",
          "",
          "",
          "",
          "",
          "",
          "",
          "",
          "",
          "",
          "",
          "",
          "",
          "",
          "",
          "",
          "",
          "",
          "",
          "",
          "",
          "",
          "",
          "",
          "",
          "",
          "",
          "",
          "",
          "",
          "",
          "",
          "",
          "",
          "",
          "",
          "",
          "",
          "",
          "",
          "",
          "",
          "",
          "",
          "",
          "",
          "",
          "",
          "",
          "",
          "",
          "",
          ""
         ],
         "type": "treemap",
         "values": [
          425397956,
          737181163,
          529302705,
          2043063365,
          233019900,
          271113101,
          5968384879,
          1316979482,
          333158743,
          508998980,
          369576328,
          1677276678,
          429769044,
          224422206,
          15370442667,
          3612638787,
          671031251,
          551729669,
          1120228606,
          61431126128,
          14166448635,
          2050017509,
          691385783754,
          5523419875,
          506667633,
          1773289420,
          885516582,
          261665701,
          219348490,
          33622057295,
          211662737,
          245092153,
          275452692,
          1182499016,
          950175381,
          7218056632,
          224843008,
          944494289,
          289875391,
          278316458,
          811793610,
          385474296,
          466312990,
          1316388794,
          10592628029,
          415622109,
          9359845941,
          1091578012,
          228710988,
          215886189,
          9158550770,
          954447645,
          510172340,
          2739436446,
          615566207,
          751483964,
          235512376,
          306195373,
          247732216,
          18162694504,
          417873213,
          287295551,
          1560304075,
          2158651943,
          2692436614,
          245798066,
          1381416489,
          224785764,
          288811124739,
          3139722682,
          365375959,
          233353478,
          276586753,
          331033342,
          4917026305,
          5730240809,
          541482098,
          221225384,
          2787861431,
          1523631434,
          328145907,
          2639092975,
          620597387,
          229752274,
          319830408,
          1356662089,
          981036723,
          485157519,
          300752121,
          312756969,
          2201563494,
          3834692234,
          2338369962,
          307070821,
          803513801,
          410966198,
          1460971286,
          1376654877,
          463093234,
          508174650,
          2248039169,
          358090581,
          420560407,
          4080000239,
          657010682,
          262349261,
          728526694,
          283196887,
          234427682,
          881514071,
          487182352,
          215979077,
          389337338,
          3183834783,
          1202190152,
          1567332516,
          3196220411,
          685289109,
          4276319896,
          519026499,
          237706742,
          7526970511,
          574225755,
          624897187,
          1081791378,
          242343736,
          214852253,
          4672039031,
          1736193414,
          603809665,
          237425534,
          290512941,
          300001477,
          844351929,
          269290628,
          2624372397,
          584918728,
          214756951,
          879558723,
          1275781291,
          990211113,
          311328110,
          6495394349,
          412482358,
          515508201,
          559642611,
          281046001,
          585823635,
          5447569121,
          574641439,
          1115880367,
          248961954,
          632649887,
          391160941,
          258273331,
          2543728606,
          337816679,
          306347488,
          1950689975,
          1025512624,
          389405566,
          303829045,
          248670582,
          815897624,
          19303549639,
          10117468568,
          312056910,
          234647433,
          221782835,
          566625769,
          1342503008,
          277427826,
          1548716471,
          514009908,
          235982757,
          661010600,
          273795933,
          363449255,
          230103623,
          432652339,
          350058780,
          874114458,
          302135940,
          873528504,
          281261041,
          11476035420,
          466646452,
          325238970,
          28357920934,
          650689885,
          218876087,
          1387926968,
          4870213880,
          845521517,
          244234385,
          489426357,
          375983712,
          831999834,
          520038753,
          1156401194,
          5640073838,
          395508889,
          26043209386,
          11211439037,
          78522932776,
          417535739,
          2568821721,
          2452512635,
          2730795303,
          1886178774,
          2590151402,
          262744190,
          310805160,
          344221839,
          355179374,
          1420040779,
          209896219,
          378944438,
          48119723869,
          237392948,
          4855809084,
          3427342968,
          538179511,
          301238036,
          527092001,
          277316288,
          545867811,
          842158093,
          355007159,
          769867387,
          9848596351,
          781802472,
          28825488039,
          209330660,
          253026490,
          222675792,
          1134640940,
          257245207,
          587002114,
          243762107,
          2625082202,
          3159765518,
          2329601281,
          779416247,
          450037702,
          626652650,
          1363915684,
          647909987,
          312247707,
          852938690
         ]
        }
       ],
       "layout": {
        "legend": {
         "tracegroupgap": 0
        },
        "margin": {
         "b": 10,
         "l": 10,
         "r": 10,
         "t": 10
        },
        "template": {
         "data": {
          "bar": [
           {
            "error_x": {
             "color": "#2a3f5f"
            },
            "error_y": {
             "color": "#2a3f5f"
            },
            "marker": {
             "line": {
              "color": "#E5ECF6",
              "width": 0.5
             },
             "pattern": {
              "fillmode": "overlay",
              "size": 10,
              "solidity": 0.2
             }
            },
            "type": "bar"
           }
          ],
          "barpolar": [
           {
            "marker": {
             "line": {
              "color": "#E5ECF6",
              "width": 0.5
             },
             "pattern": {
              "fillmode": "overlay",
              "size": 10,
              "solidity": 0.2
             }
            },
            "type": "barpolar"
           }
          ],
          "carpet": [
           {
            "aaxis": {
             "endlinecolor": "#2a3f5f",
             "gridcolor": "white",
             "linecolor": "white",
             "minorgridcolor": "white",
             "startlinecolor": "#2a3f5f"
            },
            "baxis": {
             "endlinecolor": "#2a3f5f",
             "gridcolor": "white",
             "linecolor": "white",
             "minorgridcolor": "white",
             "startlinecolor": "#2a3f5f"
            },
            "type": "carpet"
           }
          ],
          "choropleth": [
           {
            "colorbar": {
             "outlinewidth": 0,
             "ticks": ""
            },
            "type": "choropleth"
           }
          ],
          "contour": [
           {
            "colorbar": {
             "outlinewidth": 0,
             "ticks": ""
            },
            "colorscale": [
             [
              0,
              "#0d0887"
             ],
             [
              0.1111111111111111,
              "#46039f"
             ],
             [
              0.2222222222222222,
              "#7201a8"
             ],
             [
              0.3333333333333333,
              "#9c179e"
             ],
             [
              0.4444444444444444,
              "#bd3786"
             ],
             [
              0.5555555555555556,
              "#d8576b"
             ],
             [
              0.6666666666666666,
              "#ed7953"
             ],
             [
              0.7777777777777778,
              "#fb9f3a"
             ],
             [
              0.8888888888888888,
              "#fdca26"
             ],
             [
              1,
              "#f0f921"
             ]
            ],
            "type": "contour"
           }
          ],
          "contourcarpet": [
           {
            "colorbar": {
             "outlinewidth": 0,
             "ticks": ""
            },
            "type": "contourcarpet"
           }
          ],
          "heatmap": [
           {
            "colorbar": {
             "outlinewidth": 0,
             "ticks": ""
            },
            "colorscale": [
             [
              0,
              "#0d0887"
             ],
             [
              0.1111111111111111,
              "#46039f"
             ],
             [
              0.2222222222222222,
              "#7201a8"
             ],
             [
              0.3333333333333333,
              "#9c179e"
             ],
             [
              0.4444444444444444,
              "#bd3786"
             ],
             [
              0.5555555555555556,
              "#d8576b"
             ],
             [
              0.6666666666666666,
              "#ed7953"
             ],
             [
              0.7777777777777778,
              "#fb9f3a"
             ],
             [
              0.8888888888888888,
              "#fdca26"
             ],
             [
              1,
              "#f0f921"
             ]
            ],
            "type": "heatmap"
           }
          ],
          "heatmapgl": [
           {
            "colorbar": {
             "outlinewidth": 0,
             "ticks": ""
            },
            "colorscale": [
             [
              0,
              "#0d0887"
             ],
             [
              0.1111111111111111,
              "#46039f"
             ],
             [
              0.2222222222222222,
              "#7201a8"
             ],
             [
              0.3333333333333333,
              "#9c179e"
             ],
             [
              0.4444444444444444,
              "#bd3786"
             ],
             [
              0.5555555555555556,
              "#d8576b"
             ],
             [
              0.6666666666666666,
              "#ed7953"
             ],
             [
              0.7777777777777778,
              "#fb9f3a"
             ],
             [
              0.8888888888888888,
              "#fdca26"
             ],
             [
              1,
              "#f0f921"
             ]
            ],
            "type": "heatmapgl"
           }
          ],
          "histogram": [
           {
            "marker": {
             "pattern": {
              "fillmode": "overlay",
              "size": 10,
              "solidity": 0.2
             }
            },
            "type": "histogram"
           }
          ],
          "histogram2d": [
           {
            "colorbar": {
             "outlinewidth": 0,
             "ticks": ""
            },
            "colorscale": [
             [
              0,
              "#0d0887"
             ],
             [
              0.1111111111111111,
              "#46039f"
             ],
             [
              0.2222222222222222,
              "#7201a8"
             ],
             [
              0.3333333333333333,
              "#9c179e"
             ],
             [
              0.4444444444444444,
              "#bd3786"
             ],
             [
              0.5555555555555556,
              "#d8576b"
             ],
             [
              0.6666666666666666,
              "#ed7953"
             ],
             [
              0.7777777777777778,
              "#fb9f3a"
             ],
             [
              0.8888888888888888,
              "#fdca26"
             ],
             [
              1,
              "#f0f921"
             ]
            ],
            "type": "histogram2d"
           }
          ],
          "histogram2dcontour": [
           {
            "colorbar": {
             "outlinewidth": 0,
             "ticks": ""
            },
            "colorscale": [
             [
              0,
              "#0d0887"
             ],
             [
              0.1111111111111111,
              "#46039f"
             ],
             [
              0.2222222222222222,
              "#7201a8"
             ],
             [
              0.3333333333333333,
              "#9c179e"
             ],
             [
              0.4444444444444444,
              "#bd3786"
             ],
             [
              0.5555555555555556,
              "#d8576b"
             ],
             [
              0.6666666666666666,
              "#ed7953"
             ],
             [
              0.7777777777777778,
              "#fb9f3a"
             ],
             [
              0.8888888888888888,
              "#fdca26"
             ],
             [
              1,
              "#f0f921"
             ]
            ],
            "type": "histogram2dcontour"
           }
          ],
          "mesh3d": [
           {
            "colorbar": {
             "outlinewidth": 0,
             "ticks": ""
            },
            "type": "mesh3d"
           }
          ],
          "parcoords": [
           {
            "line": {
             "colorbar": {
              "outlinewidth": 0,
              "ticks": ""
             }
            },
            "type": "parcoords"
           }
          ],
          "pie": [
           {
            "automargin": true,
            "type": "pie"
           }
          ],
          "scatter": [
           {
            "marker": {
             "colorbar": {
              "outlinewidth": 0,
              "ticks": ""
             }
            },
            "type": "scatter"
           }
          ],
          "scatter3d": [
           {
            "line": {
             "colorbar": {
              "outlinewidth": 0,
              "ticks": ""
             }
            },
            "marker": {
             "colorbar": {
              "outlinewidth": 0,
              "ticks": ""
             }
            },
            "type": "scatter3d"
           }
          ],
          "scattercarpet": [
           {
            "marker": {
             "colorbar": {
              "outlinewidth": 0,
              "ticks": ""
             }
            },
            "type": "scattercarpet"
           }
          ],
          "scattergeo": [
           {
            "marker": {
             "colorbar": {
              "outlinewidth": 0,
              "ticks": ""
             }
            },
            "type": "scattergeo"
           }
          ],
          "scattergl": [
           {
            "marker": {
             "colorbar": {
              "outlinewidth": 0,
              "ticks": ""
             }
            },
            "type": "scattergl"
           }
          ],
          "scattermapbox": [
           {
            "marker": {
             "colorbar": {
              "outlinewidth": 0,
              "ticks": ""
             }
            },
            "type": "scattermapbox"
           }
          ],
          "scatterpolar": [
           {
            "marker": {
             "colorbar": {
              "outlinewidth": 0,
              "ticks": ""
             }
            },
            "type": "scatterpolar"
           }
          ],
          "scatterpolargl": [
           {
            "marker": {
             "colorbar": {
              "outlinewidth": 0,
              "ticks": ""
             }
            },
            "type": "scatterpolargl"
           }
          ],
          "scatterternary": [
           {
            "marker": {
             "colorbar": {
              "outlinewidth": 0,
              "ticks": ""
             }
            },
            "type": "scatterternary"
           }
          ],
          "surface": [
           {
            "colorbar": {
             "outlinewidth": 0,
             "ticks": ""
            },
            "colorscale": [
             [
              0,
              "#0d0887"
             ],
             [
              0.1111111111111111,
              "#46039f"
             ],
             [
              0.2222222222222222,
              "#7201a8"
             ],
             [
              0.3333333333333333,
              "#9c179e"
             ],
             [
              0.4444444444444444,
              "#bd3786"
             ],
             [
              0.5555555555555556,
              "#d8576b"
             ],
             [
              0.6666666666666666,
              "#ed7953"
             ],
             [
              0.7777777777777778,
              "#fb9f3a"
             ],
             [
              0.8888888888888888,
              "#fdca26"
             ],
             [
              1,
              "#f0f921"
             ]
            ],
            "type": "surface"
           }
          ],
          "table": [
           {
            "cells": {
             "fill": {
              "color": "#EBF0F8"
             },
             "line": {
              "color": "white"
             }
            },
            "header": {
             "fill": {
              "color": "#C8D4E3"
             },
             "line": {
              "color": "white"
             }
            },
            "type": "table"
           }
          ]
         },
         "layout": {
          "annotationdefaults": {
           "arrowcolor": "#2a3f5f",
           "arrowhead": 0,
           "arrowwidth": 1
          },
          "autotypenumbers": "strict",
          "coloraxis": {
           "colorbar": {
            "outlinewidth": 0,
            "ticks": ""
           }
          },
          "colorscale": {
           "diverging": [
            [
             0,
             "#8e0152"
            ],
            [
             0.1,
             "#c51b7d"
            ],
            [
             0.2,
             "#de77ae"
            ],
            [
             0.3,
             "#f1b6da"
            ],
            [
             0.4,
             "#fde0ef"
            ],
            [
             0.5,
             "#f7f7f7"
            ],
            [
             0.6,
             "#e6f5d0"
            ],
            [
             0.7,
             "#b8e186"
            ],
            [
             0.8,
             "#7fbc41"
            ],
            [
             0.9,
             "#4d9221"
            ],
            [
             1,
             "#276419"
            ]
           ],
           "sequential": [
            [
             0,
             "#0d0887"
            ],
            [
             0.1111111111111111,
             "#46039f"
            ],
            [
             0.2222222222222222,
             "#7201a8"
            ],
            [
             0.3333333333333333,
             "#9c179e"
            ],
            [
             0.4444444444444444,
             "#bd3786"
            ],
            [
             0.5555555555555556,
             "#d8576b"
            ],
            [
             0.6666666666666666,
             "#ed7953"
            ],
            [
             0.7777777777777778,
             "#fb9f3a"
            ],
            [
             0.8888888888888888,
             "#fdca26"
            ],
            [
             1,
             "#f0f921"
            ]
           ],
           "sequentialminus": [
            [
             0,
             "#0d0887"
            ],
            [
             0.1111111111111111,
             "#46039f"
            ],
            [
             0.2222222222222222,
             "#7201a8"
            ],
            [
             0.3333333333333333,
             "#9c179e"
            ],
            [
             0.4444444444444444,
             "#bd3786"
            ],
            [
             0.5555555555555556,
             "#d8576b"
            ],
            [
             0.6666666666666666,
             "#ed7953"
            ],
            [
             0.7777777777777778,
             "#fb9f3a"
            ],
            [
             0.8888888888888888,
             "#fdca26"
            ],
            [
             1,
             "#f0f921"
            ]
           ]
          },
          "colorway": [
           "#636efa",
           "#EF553B",
           "#00cc96",
           "#ab63fa",
           "#FFA15A",
           "#19d3f3",
           "#FF6692",
           "#B6E880",
           "#FF97FF",
           "#FECB52"
          ],
          "font": {
           "color": "#2a3f5f"
          },
          "geo": {
           "bgcolor": "white",
           "lakecolor": "white",
           "landcolor": "#E5ECF6",
           "showlakes": true,
           "showland": true,
           "subunitcolor": "white"
          },
          "hoverlabel": {
           "align": "left"
          },
          "hovermode": "closest",
          "mapbox": {
           "style": "light"
          },
          "paper_bgcolor": "white",
          "plot_bgcolor": "#E5ECF6",
          "polar": {
           "angularaxis": {
            "gridcolor": "white",
            "linecolor": "white",
            "ticks": ""
           },
           "bgcolor": "#E5ECF6",
           "radialaxis": {
            "gridcolor": "white",
            "linecolor": "white",
            "ticks": ""
           }
          },
          "scene": {
           "xaxis": {
            "backgroundcolor": "#E5ECF6",
            "gridcolor": "white",
            "gridwidth": 2,
            "linecolor": "white",
            "showbackground": true,
            "ticks": "",
            "zerolinecolor": "white"
           },
           "yaxis": {
            "backgroundcolor": "#E5ECF6",
            "gridcolor": "white",
            "gridwidth": 2,
            "linecolor": "white",
            "showbackground": true,
            "ticks": "",
            "zerolinecolor": "white"
           },
           "zaxis": {
            "backgroundcolor": "#E5ECF6",
            "gridcolor": "white",
            "gridwidth": 2,
            "linecolor": "white",
            "showbackground": true,
            "ticks": "",
            "zerolinecolor": "white"
           }
          },
          "shapedefaults": {
           "line": {
            "color": "#2a3f5f"
           }
          },
          "ternary": {
           "aaxis": {
            "gridcolor": "white",
            "linecolor": "white",
            "ticks": ""
           },
           "baxis": {
            "gridcolor": "white",
            "linecolor": "white",
            "ticks": ""
           },
           "bgcolor": "#E5ECF6",
           "caxis": {
            "gridcolor": "white",
            "linecolor": "white",
            "ticks": ""
           }
          },
          "title": {
           "x": 0.05
          },
          "xaxis": {
           "automargin": true,
           "gridcolor": "white",
           "linecolor": "white",
           "ticks": "",
           "title": {
            "standoff": 15
           },
           "zerolinecolor": "white",
           "zerolinewidth": 2
          },
          "yaxis": {
           "automargin": true,
           "gridcolor": "white",
           "linecolor": "white",
           "ticks": "",
           "title": {
            "standoff": 15
           },
           "zerolinecolor": "white",
           "zerolinewidth": 2
          }
         }
        }
       }
      }
     },
     "metadata": {},
     "output_type": "display_data"
    }
   ],
   "source": [
    "fig = px.treemap(df,path=[\"Name\"],values=\"Market_cap\")\n",
    "fig.update_layout(margin = dict(t=10, l=10, r=10, b=10))\n",
    "fig.show()"
   ]
  }
 ],
 "metadata": {
  "kernelspec": {
   "display_name": "Python 3",
   "language": "python",
   "name": "python3"
  },
  "language_info": {
   "codemirror_mode": {
    "name": "ipython",
    "version": 3
   },
   "file_extension": ".py",
   "mimetype": "text/x-python",
   "name": "python",
   "nbconvert_exporter": "python",
   "pygments_lexer": "ipython3",
   "version": "3.9.6"
  }
 },
 "nbformat": 4,
 "nbformat_minor": 1
}
