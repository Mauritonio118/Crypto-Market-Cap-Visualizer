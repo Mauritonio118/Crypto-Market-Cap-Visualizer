{
 "cells": [
  {
   "cell_type": "code",
   "execution_count": 57,
   "metadata": {},
   "outputs": [],
   "source": [
    "import requests\n",
    "import pandas as pd\n",
    "import plotly.express as px\n",
    "\n",
    "r = requests.get(\"https://api.coingecko.com/api/v3/coins/markets?vs_currency=usd&order=market_cap_desc&per_page=250&page=1&sparkline=false\")\n",
    "data = r.json()"
   ]
  },
  {
   "cell_type": "code",
   "execution_count": 58,
   "metadata": {},
   "outputs": [],
   "source": [
    "name = []\n",
    "current_price = []\n",
    "market_cap =[]\n",
    "price_change_percentage_24h = []\n",
    "change_price_indicator = []\n",
    "\n",
    "\n",
    "\n",
    "\n",
    "desde = 0     #min 0\n",
    "hasta = 250   #max 250\n",
    "\n",
    "for i in range(desde,hasta):\n",
    "    name.append( data[i][\"name\"])\n",
    "    current_price.append(data[i][\"current_price\"])\n",
    "    market_cap.append(data[i][\"market_cap\"])\n",
    "    price_change_percentage_24h.append(data[i][\"price_change_percentage_24h\"])\n",
    "\n",
    "    if data[i][\"price_change_percentage_24h\"]> 5:\n",
    "        change_price_indicator.append(5)\n",
    "    elif data[i][\"price_change_percentage_24h\"]< -5:\n",
    "        change_price_indicator.append(-5)\n",
    "    else:\n",
    "        change_price_indicator.append(data[i][\"price_change_percentage_24h\"])\n",
    "\n",
    "\n",
    "df = pd.DataFrame(\n",
    "    {\n",
    "        \"Name\": name,\n",
    "        \"Current_price\": current_price,\n",
    "        \"Market_cap\": market_cap,\n",
    "        \"Price_change_percentage_24h\": price_change_percentage_24h,\n",
    "        \"change_price_indicator\" : change_price_indicator\n",
    "    }\n",
    ")\n"
   ]
  },
  {
   "cell_type": "code",
   "execution_count": 59,
   "metadata": {},
   "outputs": [
    {
     "data": {
      "application/vnd.plotly.v1+json": {
       "config": {
        "plotlyServerURL": "https://plot.ly"
       },
       "data": [
        {
         "branchvalues": "total",
         "customdata": [
          [
           -2.45431
          ],
          [
           -2.44659
          ],
          [
           -0.19435
          ],
          [
           -0.69308
          ],
          [
           5
          ],
          [
           -0.15105
          ],
          [
           -3.50495
          ],
          [
           -3.7989900000000003
          ],
          [
           5
          ],
          [
           -1.31894
          ],
          [
           -5
          ],
          [
           1.4349299999999998
          ],
          [
           -4.98495
          ],
          [
           -5
          ],
          [
           3.80106
          ],
          [
           -2.33882
          ],
          [
           -5
          ],
          [
           -2.32921
          ],
          [
           4.72451
          ],
          [
           -1.89958
          ],
          [
           0.08791000000000002
          ],
          [
           -1.41534
          ],
          [
           1.9668100000000002
          ],
          [
           -1.55957
          ],
          [
           -5
          ],
          [
           -5
          ],
          [
           -2.78495
          ],
          [
           -5
          ],
          [
           -0.01263
          ],
          [
           -4.93037
          ],
          [
           -4.99324
          ],
          [
           -4.38435
          ],
          [
           -1.65793
          ],
          [
           -5
          ],
          [
           -1.88517
          ],
          [
           -4.82688
          ],
          [
           -5
          ],
          [
           0.02207
          ],
          [
           -3.39983
          ],
          [
           -2.1446
          ],
          [
           1.94684
          ],
          [
           -0.7540300000000001
          ],
          [
           -0.93029
          ],
          [
           -5
          ],
          [
           5
          ],
          [
           -5
          ],
          [
           0.67998
          ],
          [
           -1.02282
          ],
          [
           5
          ],
          [
           -5
          ],
          [
           -0.20118
          ],
          [
           -5
          ],
          [
           -3.05156
          ],
          [
           3.17805
          ],
          [
           -5
          ],
          [
           -4.17366
          ],
          [
           -1.51119
          ],
          [
           0.21534
          ],
          [
           -2.16111
          ],
          [
           -1.97464
          ],
          [
           -5
          ],
          [
           2.97405
          ],
          [
           -1.6494900000000001
          ],
          [
           -0.63268
          ],
          [
           5
          ],
          [
           -2.02999
          ],
          [
           -4.95429
          ],
          [
           4.05985
          ],
          [
           -2.14306
          ],
          [
           -3.10365
          ],
          [
           1.78491
          ],
          [
           0.03506
          ],
          [
           -1.44537
          ],
          [
           5
          ],
          [
           0.39303
          ],
          [
           5
          ],
          [
           0.06263
          ],
          [
           -1.71232
          ],
          [
           -2.28109
          ],
          [
           -5
          ],
          [
           -3.30965
          ],
          [
           -0.36909
          ],
          [
           -5
          ],
          [
           5
          ],
          [
           5
          ],
          [
           -0.88373
          ],
          [
           0.9237899999999999
          ],
          [
           4.05385
          ],
          [
           -5
          ],
          [
           0.01412
          ],
          [
           -3.09169
          ],
          [
           -3.81055
          ],
          [
           1.89328
          ],
          [
           -3.48463
          ],
          [
           2.20058
          ],
          [
           2.60516
          ],
          [
           1.07221
          ],
          [
           -3.11957
          ],
          [
           -3.45123
          ],
          [
           0.65057
          ],
          [
           2.50222
          ],
          [
           -2.63984
          ],
          [
           -4.1224
          ],
          [
           4.71229
          ],
          [
           -1.97021
          ],
          [
           5
          ],
          [
           5
          ],
          [
           0.72809
          ],
          [
           -1.93378
          ],
          [
           -2.38775
          ],
          [
           4.08435
          ],
          [
           -4.39713
          ],
          [
           -1.73504
          ],
          [
           -1.25247
          ],
          [
           0.85785
          ],
          [
           -3.42512
          ],
          [
           -4.03831
          ],
          [
           -0.78378
          ],
          [
           -2.14185
          ],
          [
           0.43707
          ],
          [
           -2.80205
          ],
          [
           -0.45521
          ],
          [
           -1.02705
          ],
          [
           -0.07595
          ],
          [
           5
          ],
          [
           -5
          ],
          [
           -0.07366
          ],
          [
           4.56421
          ],
          [
           1.06997
          ],
          [
           -4.69312
          ],
          [
           -5
          ],
          [
           -5
          ],
          [
           -2.52723
          ],
          [
           -2.80136
          ],
          [
           -5
          ],
          [
           -4.40785
          ],
          [
           -5
          ],
          [
           2.09905
          ],
          [
           -0.55824
          ],
          [
           -2.46937
          ],
          [
           4.89279
          ],
          [
           -2.22528
          ],
          [
           -0.80927
          ],
          [
           0.22953
          ],
          [
           -2.14405
          ],
          [
           -2.95687
          ],
          [
           2.79428
          ],
          [
           5
          ],
          [
           -2.59338
          ],
          [
           -3.58602
          ],
          [
           -2.76973
          ],
          [
           4.76078
          ],
          [
           -1.0521
          ],
          [
           -0.53068
          ],
          [
           -5
          ],
          [
           5
          ],
          [
           0.60924
          ],
          [
           -5
          ],
          [
           -5
          ],
          [
           0.01194
          ],
          [
           -5
          ],
          [
           3.2754
          ],
          [
           5
          ],
          [
           -2.8149100000000002
          ],
          [
           0.93407
          ],
          [
           -2.82285
          ],
          [
           -1.71246
          ],
          [
           -5
          ],
          [
           -5
          ],
          [
           -2.58719
          ],
          [
           -3.9445200000000002
          ],
          [
           2.17106
          ],
          [
           -5
          ],
          [
           0.12446
          ],
          [
           5
          ],
          [
           0.0685
          ],
          [
           -4.05896
          ],
          [
           5
          ],
          [
           -2.48311
          ],
          [
           -5
          ],
          [
           2.42329
          ],
          [
           3.23853
          ],
          [
           1.48562
          ],
          [
           -2.83342
          ],
          [
           -1.44875
          ],
          [
           -4.48442
          ],
          [
           -2.19711
          ],
          [
           -3.6736299999999997
          ],
          [
           1.54185
          ],
          [
           -1.8533799999999998
          ],
          [
           5
          ],
          [
           -5
          ],
          [
           -0.56313
          ],
          [
           0.77667
          ],
          [
           -2.65807
          ],
          [
           -2.9506899999999994
          ],
          [
           -5
          ],
          [
           5
          ],
          [
           -5
          ],
          [
           2.10142
          ],
          [
           -1.33181
          ],
          [
           -1.31714
          ],
          [
           -0.28032
          ],
          [
           0.19578000000000004
          ],
          [
           0.13213
          ],
          [
           0.4698
          ],
          [
           0.28757
          ],
          [
           1.44863
          ],
          [
           0.64425
          ],
          [
           -4.6591
          ],
          [
           -1.46098
          ],
          [
           -5
          ],
          [
           5
          ],
          [
           1.11226
          ],
          [
           5
          ],
          [
           0.30544
          ],
          [
           1.39834
          ],
          [
           -2.62692
          ],
          [
           -0.07104
          ],
          [
           0.50161
          ],
          [
           -1.6405
          ],
          [
           1.88679
          ],
          [
           -0.39497
          ],
          [
           4.15552
          ],
          [
           -2.10078
          ],
          [
           -3.36758
          ],
          [
           5
          ],
          [
           -3.52471
          ],
          [
           -0.03129
          ],
          [
           -2.63681
          ],
          [
           1.58463
          ],
          [
           -2.72649
          ],
          [
           -2.48382
          ],
          [
           0.56623
          ],
          [
           -5
          ],
          [
           0.24769
          ],
          [
           -0.31646
          ],
          [
           -5
          ],
          [
           1.45876
          ],
          [
           -1.97241
          ],
          [
           -0.41908000000000006
          ],
          [
           -2.21077
          ],
          [
           -0.51791
          ],
          [
           0.38665
          ],
          [
           4.10232
          ],
          [
           -5
          ],
          [
           -3.69915
          ],
          [
           1.65236
          ],
          [
           0.12091999999999999
          ],
          [
           0.38497
          ]
         ],
         "domain": {
          "x": [
           0,
           1
          ],
          "y": [
           0,
           1
          ]
         },
         "hovertemplate": "labels=%{label}<br>Market_cap=%{value}<br>parent=%{parent}<br>id=%{id}<br>change_price_indicator=%{color}<extra></extra>",
         "ids": [
          "0x",
          "1inch",
          "APENFT",
          "Aave",
          "Akash Network",
          "Alchemix USD",
          "Algorand",
          "Amp",
          "Anchor Protocol",
          "Ankr",
          "Anyswap",
          "Arweave",
          "Audius",
          "Aurora",
          "Avalanche",
          "Axie Infinity",
          "Baby Doge Coin",
          "Bancor Network Token",
          "Basic Attention Token",
          "Binance Coin",
          "Binance USD",
          "BitTorrent [OLD]",
          "Bitcoin",
          "Bitcoin Cash",
          "Bitcoin Gold",
          "Bitcoin SV",
          "Bitkub Coin",
          "Boba Network",
          "COTI",
          "Cardano",
          "Cartesi",
          "Casper Network",
          "Celer Network",
          "Celo",
          "Celsius Network",
          "Chainlink",
          "Chia",
          "Chiliz",
          "Chromia",
          "Coin98",
          "Compound",
          "Constellation",
          "Convex CRV",
          "Convex Finance",
          "Cosmos",
          "Cratos",
          "Crypto.com Coin",
          "Curve DAO Token",
          "DEAPCOIN",
          "DUSK Network",
          "Dai",
          "Dash",
          "DeFi Kingdoms",
          "Decentraland",
          "Decentralized Social",
          "Decred",
          "Dent",
          "DigiByte",
          "DigitalBits",
          "Dogecoin",
          "Dogelon Mars",
          "Dopex",
          "ECOMI",
          "EOS",
          "Elrond",
          "Energy Web Token",
          "Enjin Coin",
          "Escoin Token",
          "Ethereum",
          "Ethereum Classic",
          "Ethereum Name Service",
          "Euro Tether",
          "Everscale",
          "FLEX Coin",
          "FTX Token",
          "Fantom",
          "Fei USD",
          "Fetch.ai",
          "Filecoin",
          "Flow",
          "Flux",
          "Frax",
          "Frax Share",
          "Function X",
          "GMX",
          "Gala",
          "GateToken",
          "Gnosis",
          "Golem",
          "HUSD",
          "Harmony",
          "Hedera",
          "Helium",
          "Hive",
          "Holo",
          "Horizen",
          "Huobi BTC",
          "Huobi Token",
          "ICON",
          "IOST",
          "IOTA",
          "Illuvium",
          "Immutable X",
          "Internet Computer",
          "IoTeX",
          "Ion",
          "JUNO",
          "JUST",
          "JasmyCoin",
          "Kadena",
          "Kava",
          "Keep Network",
          "Keep3rV1",
          "Klaytn",
          "KuCoin Token",
          "Kusama",
          "LEO Token",
          "LINK",
          "Lido Staked Ether",
          "Liquity USD",
          "Lisk",
          "Litecoin",
          "Livepeer",
          "LooksRare",
          "Loopring",
          "MAI",
          "Magic Internet Money",
          "Maker",
          "Marinade staked SOL",
          "Mask Network",
          "Metahero",
          "Metis Token",
          "Mina Protocol",
          "Mobox",
          "Monero",
          "Moonbeam",
          "Moonriver",
          "NEM",
          "NEO",
          "NEXO",
          "Nano",
          "Near",
          "Nervos Network",
          "Neutrino USD",
          "Nexus Mutual",
          "NuCypher",
          "OEC Token",
          "OKB",
          "OMG Network",
          "Oasis Network",
          "Ocean Protocol",
          "Olympus",
          "Ontology",
          "Origin Dollar",
          "OriginTrail",
          "Osmosis",
          "PAX Gold",
          "PLEX",
          "PancakeSwap",
          "Pax Dollar",
          "Perpetual Protocol",
          "Persistence",
          "PlayDapp",
          "Pocket Network",
          "Polkadot",
          "Polygon",
          "Polymath",
          "Power Cash",
          "Power Ledger",
          "Qtum",
          "Quant",
          "REN",
          "Radix",
          "Rally",
          "Rari Governance Token",
          "Ravencoin",
          "Raydium",
          "Render Token",
          "Reserve Rights Token",
          "Rocket Pool",
          "SKALE",
          "SafeMoon [OLD]",
          "Sapphire",
          "Secret",
          "Serum",
          "Shiba Inu",
          "Siacoin",
          "Smooth Love Potion",
          "Solana",
          "Spell Token",
          "Spookyswap",
          "Stacks",
          "Stellar",
          "Sushi",
          "Swipe",
          "SwissBorg",
          "Synapse",
          "Synthetix Network Token",
          "Syscoin",
          "THORChain",
          "TRON",
          "Telcoin",
          "Terra",
          "TerraUSD",
          "Tether",
          "Tether Gold",
          "Tezos",
          "The Graph",
          "The Sandbox",
          "Theta Fuel",
          "Theta Network",
          "Tokemak",
          "Tomb",
          "Tomb Shares",
          "Tribe",
          "TrueUSD",
          "UFO Gaming",
          "UMA",
          "USD Coin",
          "Ultra",
          "Uniswap",
          "VeChain",
          "Velas",
          "Victoria VR",
          "WAX",
          "WINkLink",
          "WOO Network",
          "Waves",
          "WazirX",
          "Wonderland",
          "Wrapped Bitcoin",
          "XDC Network",
          "XRP",
          "XSGD",
          "XYO Network",
          "Yield Guild Games",
          "Zcash",
          "Zenon",
          "Zilliqa",
          "Zipmex Token",
          "cDAI",
          "cETH",
          "cUSDC",
          "cUSDT",
          "dYdX",
          "e-Radix",
          "eCash",
          "renBTC",
          "xSUSHI",
          "yearn.finance"
         ],
         "labels": [
          "0x",
          "1inch",
          "APENFT",
          "Aave",
          "Akash Network",
          "Alchemix USD",
          "Algorand",
          "Amp",
          "Anchor Protocol",
          "Ankr",
          "Anyswap",
          "Arweave",
          "Audius",
          "Aurora",
          "Avalanche",
          "Axie Infinity",
          "Baby Doge Coin",
          "Bancor Network Token",
          "Basic Attention Token",
          "Binance Coin",
          "Binance USD",
          "BitTorrent [OLD]",
          "Bitcoin",
          "Bitcoin Cash",
          "Bitcoin Gold",
          "Bitcoin SV",
          "Bitkub Coin",
          "Boba Network",
          "COTI",
          "Cardano",
          "Cartesi",
          "Casper Network",
          "Celer Network",
          "Celo",
          "Celsius Network",
          "Chainlink",
          "Chia",
          "Chiliz",
          "Chromia",
          "Coin98",
          "Compound",
          "Constellation",
          "Convex CRV",
          "Convex Finance",
          "Cosmos",
          "Cratos",
          "Crypto.com Coin",
          "Curve DAO Token",
          "DEAPCOIN",
          "DUSK Network",
          "Dai",
          "Dash",
          "DeFi Kingdoms",
          "Decentraland",
          "Decentralized Social",
          "Decred",
          "Dent",
          "DigiByte",
          "DigitalBits",
          "Dogecoin",
          "Dogelon Mars",
          "Dopex",
          "ECOMI",
          "EOS",
          "Elrond",
          "Energy Web Token",
          "Enjin Coin",
          "Escoin Token",
          "Ethereum",
          "Ethereum Classic",
          "Ethereum Name Service",
          "Euro Tether",
          "Everscale",
          "FLEX Coin",
          "FTX Token",
          "Fantom",
          "Fei USD",
          "Fetch.ai",
          "Filecoin",
          "Flow",
          "Flux",
          "Frax",
          "Frax Share",
          "Function X",
          "GMX",
          "Gala",
          "GateToken",
          "Gnosis",
          "Golem",
          "HUSD",
          "Harmony",
          "Hedera",
          "Helium",
          "Hive",
          "Holo",
          "Horizen",
          "Huobi BTC",
          "Huobi Token",
          "ICON",
          "IOST",
          "IOTA",
          "Illuvium",
          "Immutable X",
          "Internet Computer",
          "IoTeX",
          "Ion",
          "JUNO",
          "JUST",
          "JasmyCoin",
          "Kadena",
          "Kava",
          "Keep Network",
          "Keep3rV1",
          "Klaytn",
          "KuCoin Token",
          "Kusama",
          "LEO Token",
          "LINK",
          "Lido Staked Ether",
          "Liquity USD",
          "Lisk",
          "Litecoin",
          "Livepeer",
          "LooksRare",
          "Loopring",
          "MAI",
          "Magic Internet Money",
          "Maker",
          "Marinade staked SOL",
          "Mask Network",
          "Metahero",
          "Metis Token",
          "Mina Protocol",
          "Mobox",
          "Monero",
          "Moonbeam",
          "Moonriver",
          "NEM",
          "NEO",
          "NEXO",
          "Nano",
          "Near",
          "Nervos Network",
          "Neutrino USD",
          "Nexus Mutual",
          "NuCypher",
          "OEC Token",
          "OKB",
          "OMG Network",
          "Oasis Network",
          "Ocean Protocol",
          "Olympus",
          "Ontology",
          "Origin Dollar",
          "OriginTrail",
          "Osmosis",
          "PAX Gold",
          "PLEX",
          "PancakeSwap",
          "Pax Dollar",
          "Perpetual Protocol",
          "Persistence",
          "PlayDapp",
          "Pocket Network",
          "Polkadot",
          "Polygon",
          "Polymath",
          "Power Cash",
          "Power Ledger",
          "Qtum",
          "Quant",
          "REN",
          "Radix",
          "Rally",
          "Rari Governance Token",
          "Ravencoin",
          "Raydium",
          "Render Token",
          "Reserve Rights Token",
          "Rocket Pool",
          "SKALE",
          "SafeMoon [OLD]",
          "Sapphire",
          "Secret",
          "Serum",
          "Shiba Inu",
          "Siacoin",
          "Smooth Love Potion",
          "Solana",
          "Spell Token",
          "Spookyswap",
          "Stacks",
          "Stellar",
          "Sushi",
          "Swipe",
          "SwissBorg",
          "Synapse",
          "Synthetix Network Token",
          "Syscoin",
          "THORChain",
          "TRON",
          "Telcoin",
          "Terra",
          "TerraUSD",
          "Tether",
          "Tether Gold",
          "Tezos",
          "The Graph",
          "The Sandbox",
          "Theta Fuel",
          "Theta Network",
          "Tokemak",
          "Tomb",
          "Tomb Shares",
          "Tribe",
          "TrueUSD",
          "UFO Gaming",
          "UMA",
          "USD Coin",
          "Ultra",
          "Uniswap",
          "VeChain",
          "Velas",
          "Victoria VR",
          "WAX",
          "WINkLink",
          "WOO Network",
          "Waves",
          "WazirX",
          "Wonderland",
          "Wrapped Bitcoin",
          "XDC Network",
          "XRP",
          "XSGD",
          "XYO Network",
          "Yield Guild Games",
          "Zcash",
          "Zenon",
          "Zilliqa",
          "Zipmex Token",
          "cDAI",
          "cETH",
          "cUSDC",
          "cUSDT",
          "dYdX",
          "e-Radix",
          "eCash",
          "renBTC",
          "xSUSHI",
          "yearn.finance"
         ],
         "marker": {
          "coloraxis": "coloraxis",
          "colors": [
           -2.45431,
           -2.44659,
           -0.19435,
           -0.69308,
           5,
           -0.15105,
           -3.50495,
           -3.7989900000000003,
           5,
           -1.31894,
           -5,
           1.4349299999999998,
           -4.98495,
           -5,
           3.80106,
           -2.33882,
           -5,
           -2.32921,
           4.72451,
           -1.89958,
           0.08791000000000002,
           -1.41534,
           1.9668100000000002,
           -1.55957,
           -5,
           -5,
           -2.78495,
           -5,
           -0.01263,
           -4.93037,
           -4.99324,
           -4.38435,
           -1.65793,
           -5,
           -1.88517,
           -4.82688,
           -5,
           0.02207,
           -3.39983,
           -2.1446,
           1.94684,
           -0.7540300000000001,
           -0.93029,
           -5,
           5,
           -5,
           0.67998,
           -1.02282,
           5,
           -5,
           -0.20118,
           -5,
           -3.05156,
           3.17805,
           -5,
           -4.17366,
           -1.51119,
           0.21534,
           -2.16111,
           -1.97464,
           -5,
           2.97405,
           -1.6494900000000001,
           -0.63268,
           5,
           -2.02999,
           -4.95429,
           4.05985,
           -2.14306,
           -3.10365,
           1.78491,
           0.03506,
           -1.44537,
           5,
           0.39303,
           5,
           0.06263,
           -1.71232,
           -2.28109,
           -5,
           -3.30965,
           -0.36909,
           -5,
           5,
           5,
           -0.88373,
           0.9237899999999999,
           4.05385,
           -5,
           0.01412,
           -3.09169,
           -3.81055,
           1.89328,
           -3.48463,
           2.20058,
           2.60516,
           1.07221,
           -3.11957,
           -3.45123,
           0.65057,
           2.50222,
           -2.63984,
           -4.1224,
           4.71229,
           -1.97021,
           5,
           5,
           0.72809,
           -1.93378,
           -2.38775,
           4.08435,
           -4.39713,
           -1.73504,
           -1.25247,
           0.85785,
           -3.42512,
           -4.03831,
           -0.78378,
           -2.14185,
           0.43707,
           -2.80205,
           -0.45521,
           -1.02705,
           -0.07595,
           5,
           -5,
           -0.07366,
           4.56421,
           1.06997,
           -4.69312,
           -5,
           -5,
           -2.52723,
           -2.80136,
           -5,
           -4.40785,
           -5,
           2.09905,
           -0.55824,
           -2.46937,
           4.89279,
           -2.22528,
           -0.80927,
           0.22953,
           -2.14405,
           -2.95687,
           2.79428,
           5,
           -2.59338,
           -3.58602,
           -2.76973,
           4.76078,
           -1.0521,
           -0.53068,
           -5,
           5,
           0.60924,
           -5,
           -5,
           0.01194,
           -5,
           3.2754,
           5,
           -2.8149100000000002,
           0.93407,
           -2.82285,
           -1.71246,
           -5,
           -5,
           -2.58719,
           -3.9445200000000002,
           2.17106,
           -5,
           0.12446,
           5,
           0.0685,
           -4.05896,
           5,
           -2.48311,
           -5,
           2.42329,
           3.23853,
           1.48562,
           -2.83342,
           -1.44875,
           -4.48442,
           -2.19711,
           -3.6736299999999997,
           1.54185,
           -1.8533799999999998,
           5,
           -5,
           -0.56313,
           0.77667,
           -2.65807,
           -2.9506899999999994,
           -5,
           5,
           -5,
           2.10142,
           -1.33181,
           -1.31714,
           -0.28032,
           0.19578000000000004,
           0.13213,
           0.4698,
           0.28757,
           1.44863,
           0.64425,
           -4.6591,
           -1.46098,
           -5,
           5,
           1.11226,
           5,
           0.30544,
           1.39834,
           -2.62692,
           -0.07104,
           0.50161,
           -1.6405,
           1.88679,
           -0.39497,
           4.15552,
           -2.10078,
           -3.36758,
           5,
           -3.52471,
           -0.03129,
           -2.63681,
           1.58463,
           -2.72649,
           -2.48382,
           0.56623,
           -5,
           0.24769,
           -0.31646,
           -5,
           1.45876,
           -1.97241,
           -0.41908000000000006,
           -2.21077,
           -0.51791,
           0.38665,
           4.10232,
           -5,
           -3.69915,
           1.65236,
           0.12091999999999999,
           0.38497
          ]
         },
         "name": "",
         "parents": [
          "",
          "",
          "",
          "",
          "",
          "",
          "",
          "",
          "",
          "",
          "",
          "",
          "",
          "",
          "",
          "",
          "",
          "",
          "",
          "",
          "",
          "",
          "",
          "",
          "",
          "",
          "",
          "",
          "",
          "",
          "",
          "",
          "",
          "",
          "",
          "",
          "",
          "",
          "",
          "",
          "",
          "",
          "",
          "",
          "",
          "",
          "",
          "",
          "",
          "",
          "",
          "",
          "",
          "",
          "",
          "",
          "",
          "",
          "",
          "",
          "",
          "",
          "",
          "",
          "",
          "",
          "",
          "",
          "",
          "",
          "",
          "",
          "",
          "",
          "",
          "",
          "",
          "",
          "",
          "",
          "",
          "",
          "",
          "",
          "",
          "",
          "",
          "",
          "",
          "",
          "",
          "",
          "",
          "",
          "",
          "",
          "",
          "",
          "",
          "",
          "",
          "",
          "",
          "",
          "",
          "",
          "",
          "",
          "",
          "",
          "",
          "",
          "",
          "",
          "",
          "",
          "",
          "",
          "",
          "",
          "",
          "",
          "",
          "",
          "",
          "",
          "",
          "",
          "",
          "",
          "",
          "",
          "",
          "",
          "",
          "",
          "",
          "",
          "",
          "",
          "",
          "",
          "",
          "",
          "",
          "",
          "",
          "",
          "",
          "",
          "",
          "",
          "",
          "",
          "",
          "",
          "",
          "",
          "",
          "",
          "",
          "",
          "",
          "",
          "",
          "",
          "",
          "",
          "",
          "",
          "",
          "",
          "",
          "",
          "",
          "",
          "",
          "",
          "",
          "",
          "",
          "",
          "",
          "",
          "",
          "",
          "",
          "",
          "",
          "",
          "",
          "",
          "",
          "",
          "",
          "",
          "",
          "",
          "",
          "",
          "",
          "",
          "",
          "",
          "",
          "",
          "",
          "",
          "",
          "",
          "",
          "",
          "",
          "",
          "",
          "",
          "",
          "",
          "",
          "",
          "",
          "",
          "",
          "",
          "",
          "",
          "",
          "",
          "",
          "",
          "",
          "",
          "",
          "",
          "",
          "",
          "",
          "",
          "",
          "",
          "",
          "",
          "",
          "",
          "",
          "",
          "",
          "",
          "",
          ""
         ],
         "type": "treemap",
         "values": [
          416429493,
          719749058,
          515529826,
          1975775096,
          227154064,
          270291009,
          5694492185,
          1311215553,
          380489979,
          503137432,
          351242271,
          1592627910,
          422589700,
          219592706,
          15160092754,
          3520899487,
          630721202,
          540147079,
          1100794890,
          60205372551,
          14057964697,
          2036425316,
          676985112589,
          5424805458,
          485317297,
          1713207241,
          872275814,
          255980907,
          213604605,
          32044320641,
          206186391,
          234562341,
          266361430,
          1138819890,
          953404818,
          6843298515,
          216960093,
          927008317,
          277000908,
          268560814,
          799086891,
          381889521,
          465239055,
          1259871589,
          10090518508,
          409010567,
          9272613174,
          1063674128,
          242010929,
          207492112,
          9102465941,
          932941907,
          498662705,
          2690085109,
          576844582,
          727971529,
          230676356,
          299643798,
          245897003,
          17685604069,
          405053800,
          280209349,
          1566706828,
          2141338990,
          2701669028,
          238280123,
          1339040413,
          224275214,
          281064510123,
          3083289029,
          358075710,
          233127308,
          272704413,
          332210297,
          4806913821,
          5602750002,
          538376494,
          217347569,
          2720578617,
          1460405444,
          316602977,
          2611076060,
          604648665,
          332071630,
          310604120,
          1340889676,
          941646145,
          484659046,
          290639809,
          312809955,
          2085755102,
          3754911361,
          2292501791,
          294489147,
          780952081,
          407423997,
          1428321626,
          1365055511,
          450584005,
          497694396,
          2207799387,
          348358140,
          419823260,
          4100688107,
          643851497,
          256205419,
          702006837,
          279272469,
          228227243,
          862804489,
          474994069,
          212187746,
          373372887,
          3120076128,
          1178385805,
          1543030564,
          3149029268,
          655934459,
          4187493928,
          515147903,
          232781615,
          7365157745,
          561998383,
          606748545,
          1091539015,
          241047154,
          4635462229,
          1692951641,
          594740813,
          230751285,
          286171557,
          289585161,
          807466518,
          263891494,
          2547885731,
          557726206,
          206352306,
          856796837,
          1240648446,
          978812942,
          307416370,
          6243004302,
          408499446,
          512875497,
          548939441,
          273613997,
          594291839,
          5841765897,
          548963086,
          1069280151,
          248062138,
          626096810,
          382439510,
          257783349,
          199134380,
          2461481797,
          336197987,
          306545916,
          1914149977,
          1019656624,
          381159124,
          295732907,
          237832562,
          784856132,
          18773758777,
          9723423954,
          300326274,
          231318401,
          215241534,
          558422687,
          1312133476,
          277275299,
          1510504363,
          505958730,
          232331221,
          643036266,
          271581845,
          351633267,
          225975446,
          425343398,
          341904112,
          884811283,
          296605763,
          845590025,
          275512567,
          11148356370,
          455164154,
          320405439,
          27789046455,
          623011051,
          218776233,
          1329975110,
          4674490960,
          835718188,
          237152571,
          492577865,
          372316085,
          835853669,
          513619826,
          1136739281,
          5530828690,
          373363693,
          25636965683,
          11164777911,
          77969757436,
          416977587,
          2503906041,
          2439795461,
          2674898784,
          1886178774,
          2492791804,
          255950418,
          304700819,
          329526649,
          352374690,
          1440451171,
          208067705,
          376649852,
          48125722469,
          235613627,
          4723196854,
          3355168594,
          527044169,
          284152795,
          505858329,
          267932488,
          535978797,
          820151685,
          346557014,
          775803111,
          9721896544,
          771588163,
          28163264651,
          208514510,
          251601734,
          213017465,
          1110502837,
          257245207,
          578881348,
          240452715,
          2606790656,
          3086271435,
          2280617896,
          779655126,
          440667093,
          619167405,
          1317921112,
          641194018,
          308450426,
          846921711
         ]
        }
       ],
       "layout": {
        "coloraxis": {
         "colorbar": {
          "title": {
           "text": "change_price_indicator"
          }
         },
         "colorscale": [
          [
           0,
           "rgb(165,0,38)"
          ],
          [
           0.1,
           "rgb(215,48,39)"
          ],
          [
           0.2,
           "rgb(244,109,67)"
          ],
          [
           0.3,
           "rgb(253,174,97)"
          ],
          [
           0.4,
           "rgb(254,224,139)"
          ],
          [
           0.5,
           "rgb(255,255,191)"
          ],
          [
           0.6,
           "rgb(217,239,139)"
          ],
          [
           0.7,
           "rgb(166,217,106)"
          ],
          [
           0.8,
           "rgb(102,189,99)"
          ],
          [
           0.9,
           "rgb(26,152,80)"
          ],
          [
           1,
           "rgb(0,104,55)"
          ]
         ]
        },
        "legend": {
         "tracegroupgap": 0
        },
        "margin": {
         "b": 10,
         "l": 10,
         "r": 10,
         "t": 10
        },
        "template": {
         "data": {
          "bar": [
           {
            "error_x": {
             "color": "#2a3f5f"
            },
            "error_y": {
             "color": "#2a3f5f"
            },
            "marker": {
             "line": {
              "color": "#E5ECF6",
              "width": 0.5
             },
             "pattern": {
              "fillmode": "overlay",
              "size": 10,
              "solidity": 0.2
             }
            },
            "type": "bar"
           }
          ],
          "barpolar": [
           {
            "marker": {
             "line": {
              "color": "#E5ECF6",
              "width": 0.5
             },
             "pattern": {
              "fillmode": "overlay",
              "size": 10,
              "solidity": 0.2
             }
            },
            "type": "barpolar"
           }
          ],
          "carpet": [
           {
            "aaxis": {
             "endlinecolor": "#2a3f5f",
             "gridcolor": "white",
             "linecolor": "white",
             "minorgridcolor": "white",
             "startlinecolor": "#2a3f5f"
            },
            "baxis": {
             "endlinecolor": "#2a3f5f",
             "gridcolor": "white",
             "linecolor": "white",
             "minorgridcolor": "white",
             "startlinecolor": "#2a3f5f"
            },
            "type": "carpet"
           }
          ],
          "choropleth": [
           {
            "colorbar": {
             "outlinewidth": 0,
             "ticks": ""
            },
            "type": "choropleth"
           }
          ],
          "contour": [
           {
            "colorbar": {
             "outlinewidth": 0,
             "ticks": ""
            },
            "colorscale": [
             [
              0,
              "#0d0887"
             ],
             [
              0.1111111111111111,
              "#46039f"
             ],
             [
              0.2222222222222222,
              "#7201a8"
             ],
             [
              0.3333333333333333,
              "#9c179e"
             ],
             [
              0.4444444444444444,
              "#bd3786"
             ],
             [
              0.5555555555555556,
              "#d8576b"
             ],
             [
              0.6666666666666666,
              "#ed7953"
             ],
             [
              0.7777777777777778,
              "#fb9f3a"
             ],
             [
              0.8888888888888888,
              "#fdca26"
             ],
             [
              1,
              "#f0f921"
             ]
            ],
            "type": "contour"
           }
          ],
          "contourcarpet": [
           {
            "colorbar": {
             "outlinewidth": 0,
             "ticks": ""
            },
            "type": "contourcarpet"
           }
          ],
          "heatmap": [
           {
            "colorbar": {
             "outlinewidth": 0,
             "ticks": ""
            },
            "colorscale": [
             [
              0,
              "#0d0887"
             ],
             [
              0.1111111111111111,
              "#46039f"
             ],
             [
              0.2222222222222222,
              "#7201a8"
             ],
             [
              0.3333333333333333,
              "#9c179e"
             ],
             [
              0.4444444444444444,
              "#bd3786"
             ],
             [
              0.5555555555555556,
              "#d8576b"
             ],
             [
              0.6666666666666666,
              "#ed7953"
             ],
             [
              0.7777777777777778,
              "#fb9f3a"
             ],
             [
              0.8888888888888888,
              "#fdca26"
             ],
             [
              1,
              "#f0f921"
             ]
            ],
            "type": "heatmap"
           }
          ],
          "heatmapgl": [
           {
            "colorbar": {
             "outlinewidth": 0,
             "ticks": ""
            },
            "colorscale": [
             [
              0,
              "#0d0887"
             ],
             [
              0.1111111111111111,
              "#46039f"
             ],
             [
              0.2222222222222222,
              "#7201a8"
             ],
             [
              0.3333333333333333,
              "#9c179e"
             ],
             [
              0.4444444444444444,
              "#bd3786"
             ],
             [
              0.5555555555555556,
              "#d8576b"
             ],
             [
              0.6666666666666666,
              "#ed7953"
             ],
             [
              0.7777777777777778,
              "#fb9f3a"
             ],
             [
              0.8888888888888888,
              "#fdca26"
             ],
             [
              1,
              "#f0f921"
             ]
            ],
            "type": "heatmapgl"
           }
          ],
          "histogram": [
           {
            "marker": {
             "pattern": {
              "fillmode": "overlay",
              "size": 10,
              "solidity": 0.2
             }
            },
            "type": "histogram"
           }
          ],
          "histogram2d": [
           {
            "colorbar": {
             "outlinewidth": 0,
             "ticks": ""
            },
            "colorscale": [
             [
              0,
              "#0d0887"
             ],
             [
              0.1111111111111111,
              "#46039f"
             ],
             [
              0.2222222222222222,
              "#7201a8"
             ],
             [
              0.3333333333333333,
              "#9c179e"
             ],
             [
              0.4444444444444444,
              "#bd3786"
             ],
             [
              0.5555555555555556,
              "#d8576b"
             ],
             [
              0.6666666666666666,
              "#ed7953"
             ],
             [
              0.7777777777777778,
              "#fb9f3a"
             ],
             [
              0.8888888888888888,
              "#fdca26"
             ],
             [
              1,
              "#f0f921"
             ]
            ],
            "type": "histogram2d"
           }
          ],
          "histogram2dcontour": [
           {
            "colorbar": {
             "outlinewidth": 0,
             "ticks": ""
            },
            "colorscale": [
             [
              0,
              "#0d0887"
             ],
             [
              0.1111111111111111,
              "#46039f"
             ],
             [
              0.2222222222222222,
              "#7201a8"
             ],
             [
              0.3333333333333333,
              "#9c179e"
             ],
             [
              0.4444444444444444,
              "#bd3786"
             ],
             [
              0.5555555555555556,
              "#d8576b"
             ],
             [
              0.6666666666666666,
              "#ed7953"
             ],
             [
              0.7777777777777778,
              "#fb9f3a"
             ],
             [
              0.8888888888888888,
              "#fdca26"
             ],
             [
              1,
              "#f0f921"
             ]
            ],
            "type": "histogram2dcontour"
           }
          ],
          "mesh3d": [
           {
            "colorbar": {
             "outlinewidth": 0,
             "ticks": ""
            },
            "type": "mesh3d"
           }
          ],
          "parcoords": [
           {
            "line": {
             "colorbar": {
              "outlinewidth": 0,
              "ticks": ""
             }
            },
            "type": "parcoords"
           }
          ],
          "pie": [
           {
            "automargin": true,
            "type": "pie"
           }
          ],
          "scatter": [
           {
            "marker": {
             "colorbar": {
              "outlinewidth": 0,
              "ticks": ""
             }
            },
            "type": "scatter"
           }
          ],
          "scatter3d": [
           {
            "line": {
             "colorbar": {
              "outlinewidth": 0,
              "ticks": ""
             }
            },
            "marker": {
             "colorbar": {
              "outlinewidth": 0,
              "ticks": ""
             }
            },
            "type": "scatter3d"
           }
          ],
          "scattercarpet": [
           {
            "marker": {
             "colorbar": {
              "outlinewidth": 0,
              "ticks": ""
             }
            },
            "type": "scattercarpet"
           }
          ],
          "scattergeo": [
           {
            "marker": {
             "colorbar": {
              "outlinewidth": 0,
              "ticks": ""
             }
            },
            "type": "scattergeo"
           }
          ],
          "scattergl": [
           {
            "marker": {
             "colorbar": {
              "outlinewidth": 0,
              "ticks": ""
             }
            },
            "type": "scattergl"
           }
          ],
          "scattermapbox": [
           {
            "marker": {
             "colorbar": {
              "outlinewidth": 0,
              "ticks": ""
             }
            },
            "type": "scattermapbox"
           }
          ],
          "scatterpolar": [
           {
            "marker": {
             "colorbar": {
              "outlinewidth": 0,
              "ticks": ""
             }
            },
            "type": "scatterpolar"
           }
          ],
          "scatterpolargl": [
           {
            "marker": {
             "colorbar": {
              "outlinewidth": 0,
              "ticks": ""
             }
            },
            "type": "scatterpolargl"
           }
          ],
          "scatterternary": [
           {
            "marker": {
             "colorbar": {
              "outlinewidth": 0,
              "ticks": ""
             }
            },
            "type": "scatterternary"
           }
          ],
          "surface": [
           {
            "colorbar": {
             "outlinewidth": 0,
             "ticks": ""
            },
            "colorscale": [
             [
              0,
              "#0d0887"
             ],
             [
              0.1111111111111111,
              "#46039f"
             ],
             [
              0.2222222222222222,
              "#7201a8"
             ],
             [
              0.3333333333333333,
              "#9c179e"
             ],
             [
              0.4444444444444444,
              "#bd3786"
             ],
             [
              0.5555555555555556,
              "#d8576b"
             ],
             [
              0.6666666666666666,
              "#ed7953"
             ],
             [
              0.7777777777777778,
              "#fb9f3a"
             ],
             [
              0.8888888888888888,
              "#fdca26"
             ],
             [
              1,
              "#f0f921"
             ]
            ],
            "type": "surface"
           }
          ],
          "table": [
           {
            "cells": {
             "fill": {
              "color": "#EBF0F8"
             },
             "line": {
              "color": "white"
             }
            },
            "header": {
             "fill": {
              "color": "#C8D4E3"
             },
             "line": {
              "color": "white"
             }
            },
            "type": "table"
           }
          ]
         },
         "layout": {
          "annotationdefaults": {
           "arrowcolor": "#2a3f5f",
           "arrowhead": 0,
           "arrowwidth": 1
          },
          "autotypenumbers": "strict",
          "coloraxis": {
           "colorbar": {
            "outlinewidth": 0,
            "ticks": ""
           }
          },
          "colorscale": {
           "diverging": [
            [
             0,
             "#8e0152"
            ],
            [
             0.1,
             "#c51b7d"
            ],
            [
             0.2,
             "#de77ae"
            ],
            [
             0.3,
             "#f1b6da"
            ],
            [
             0.4,
             "#fde0ef"
            ],
            [
             0.5,
             "#f7f7f7"
            ],
            [
             0.6,
             "#e6f5d0"
            ],
            [
             0.7,
             "#b8e186"
            ],
            [
             0.8,
             "#7fbc41"
            ],
            [
             0.9,
             "#4d9221"
            ],
            [
             1,
             "#276419"
            ]
           ],
           "sequential": [
            [
             0,
             "#0d0887"
            ],
            [
             0.1111111111111111,
             "#46039f"
            ],
            [
             0.2222222222222222,
             "#7201a8"
            ],
            [
             0.3333333333333333,
             "#9c179e"
            ],
            [
             0.4444444444444444,
             "#bd3786"
            ],
            [
             0.5555555555555556,
             "#d8576b"
            ],
            [
             0.6666666666666666,
             "#ed7953"
            ],
            [
             0.7777777777777778,
             "#fb9f3a"
            ],
            [
             0.8888888888888888,
             "#fdca26"
            ],
            [
             1,
             "#f0f921"
            ]
           ],
           "sequentialminus": [
            [
             0,
             "#0d0887"
            ],
            [
             0.1111111111111111,
             "#46039f"
            ],
            [
             0.2222222222222222,
             "#7201a8"
            ],
            [
             0.3333333333333333,
             "#9c179e"
            ],
            [
             0.4444444444444444,
             "#bd3786"
            ],
            [
             0.5555555555555556,
             "#d8576b"
            ],
            [
             0.6666666666666666,
             "#ed7953"
            ],
            [
             0.7777777777777778,
             "#fb9f3a"
            ],
            [
             0.8888888888888888,
             "#fdca26"
            ],
            [
             1,
             "#f0f921"
            ]
           ]
          },
          "colorway": [
           "#636efa",
           "#EF553B",
           "#00cc96",
           "#ab63fa",
           "#FFA15A",
           "#19d3f3",
           "#FF6692",
           "#B6E880",
           "#FF97FF",
           "#FECB52"
          ],
          "font": {
           "color": "#2a3f5f"
          },
          "geo": {
           "bgcolor": "white",
           "lakecolor": "white",
           "landcolor": "#E5ECF6",
           "showlakes": true,
           "showland": true,
           "subunitcolor": "white"
          },
          "hoverlabel": {
           "align": "left"
          },
          "hovermode": "closest",
          "mapbox": {
           "style": "light"
          },
          "paper_bgcolor": "white",
          "plot_bgcolor": "#E5ECF6",
          "polar": {
           "angularaxis": {
            "gridcolor": "white",
            "linecolor": "white",
            "ticks": ""
           },
           "bgcolor": "#E5ECF6",
           "radialaxis": {
            "gridcolor": "white",
            "linecolor": "white",
            "ticks": ""
           }
          },
          "scene": {
           "xaxis": {
            "backgroundcolor": "#E5ECF6",
            "gridcolor": "white",
            "gridwidth": 2,
            "linecolor": "white",
            "showbackground": true,
            "ticks": "",
            "zerolinecolor": "white"
           },
           "yaxis": {
            "backgroundcolor": "#E5ECF6",
            "gridcolor": "white",
            "gridwidth": 2,
            "linecolor": "white",
            "showbackground": true,
            "ticks": "",
            "zerolinecolor": "white"
           },
           "zaxis": {
            "backgroundcolor": "#E5ECF6",
            "gridcolor": "white",
            "gridwidth": 2,
            "linecolor": "white",
            "showbackground": true,
            "ticks": "",
            "zerolinecolor": "white"
           }
          },
          "shapedefaults": {
           "line": {
            "color": "#2a3f5f"
           }
          },
          "ternary": {
           "aaxis": {
            "gridcolor": "white",
            "linecolor": "white",
            "ticks": ""
           },
           "baxis": {
            "gridcolor": "white",
            "linecolor": "white",
            "ticks": ""
           },
           "bgcolor": "#E5ECF6",
           "caxis": {
            "gridcolor": "white",
            "linecolor": "white",
            "ticks": ""
           }
          },
          "title": {
           "x": 0.05
          },
          "xaxis": {
           "automargin": true,
           "gridcolor": "white",
           "linecolor": "white",
           "ticks": "",
           "title": {
            "standoff": 15
           },
           "zerolinecolor": "white",
           "zerolinewidth": 2
          },
          "yaxis": {
           "automargin": true,
           "gridcolor": "white",
           "linecolor": "white",
           "ticks": "",
           "title": {
            "standoff": 15
           },
           "zerolinecolor": "white",
           "zerolinewidth": 2
          }
         }
        }
       }
      }
     },
     "metadata": {},
     "output_type": "display_data"
    }
   ],
   "source": [
    "fig = px.treemap(df,path=[\"Name\"],values=\"Market_cap\",color='change_price_indicator',color_continuous_scale=\"rdylgn\")\n",
    "fig.update_layout(margin = dict(t=10, l=10, r=10, b=10))\n",
    "fig.show()"
   ]
  }
 ],
 "metadata": {
  "kernelspec": {
   "display_name": "Python 3",
   "language": "python",
   "name": "python3"
  },
  "language_info": {
   "codemirror_mode": {
    "name": "ipython",
    "version": 3
   },
   "file_extension": ".py",
   "mimetype": "text/x-python",
   "name": "python",
   "nbconvert_exporter": "python",
   "pygments_lexer": "ipython3",
   "version": "3.9.6"
  }
 },
 "nbformat": 4,
 "nbformat_minor": 1
}
